{
 "cells": [
  {
   "cell_type": "markdown",
   "metadata": {},
   "source": [
    "# Análise de teste A/B realizado para e-commerce. "
   ]
  },
  {
   "cell_type": "raw",
   "metadata": {},
   "source": []
  },
  {
   "cell_type": "markdown",
   "metadata": {},
   "source": [
    "# Introdução: "
   ]
  },
  {
   "cell_type": "markdown",
   "metadata": {},
   "source": [
    "A análise do teste A/B denominado \"recommender_system_test\" foi concebida com o objetivo de avaliar as mudanças relacionadas à introdução de um sistema de recomendação aprimorado em uma loja online internacional. \n",
    "\n",
    "Este teste, iniciado em 07-12-2020 e concluído em 01-01-2021, envolveu dois grupos distintos: o Grupo A (Controle) e o Grupo B (Funil de Novos Pagamentos).\n",
    "\n",
    "O propósito fundamental foi observar melhorias nas taxas de conversão nas etapas-chave do funil de vendas: visualizações de página do produto (product_page), adição de itens ao carrinho (product_cart) e compras (purchase). \n",
    "Esperava-se um aumento mínimo de 10% em cada etapa do funil, dentro de um período de até 14 dias após o cadastro.\n",
    "\n",
    "O número planejado de participantes para este teste A/B foi estabelecido em 6000, visando garantir uma base estatisticamente significativa para a análise dos resultados. \n",
    "Este projeto visa não apenas compreender o impacto da introdução do novo sistema de recomendação, mas também avaliar se as alterações implementadas alcançaram os resultados esperados.\n",
    "\n",
    "A análise completa deste projeto buscará examinar detalhadamente as métricas de conversão, comparar os resultados entre os grupos de controle e teste, considerar a significância estatística e, finalmente, fornecer conclusões que orientem a tomada de decisões futuras em relação ao sistema de recomendação implementado.\n",
    "\n",
    "Este relatório busca oferecer uma compreensão abrangente do desempenho do teste A/B e orientar ações futuras com base em evidências concretas e análises robustas."
   ]
  },
  {
   "cell_type": "raw",
   "metadata": {},
   "source": []
  },
  {
   "cell_type": "markdown",
   "metadata": {},
   "source": [
    "# Baixando os dados: "
   ]
  },
  {
   "cell_type": "code",
   "execution_count": 1,
   "metadata": {},
   "outputs": [],
   "source": [
    "# importando as bibliotecas necessárias para essa análise:\n",
    "\n",
    "import pandas as pd\n",
    "import seaborn as sns\n",
    "from matplotlib import pyplot as plt\n",
    "import numpy as np\n",
    "from scipy import stats\n",
    "import statsmodels.api as sm\n",
    "from statsmodels.stats.proportion import proportions_ztest"
   ]
  },
  {
   "cell_type": "code",
   "execution_count": 2,
   "metadata": {},
   "outputs": [],
   "source": [
    "# baixando os conjuntos de dados:\n",
    "\n",
    "marketing_events = pd.read_csv('/datasets/ab_project_marketing_events_us.csv')\n",
    "\n",
    "new_users = pd.read_csv('/datasets/final_ab_new_users_upd_us.csv')\n",
    "\n",
    "new_users_events = pd.read_csv('/datasets/final_ab_events_upd_us.csv')\n",
    "\n",
    "test_participants = pd.read_csv('/datasets/final_ab_participants_upd_us.csv')"
   ]
  },
  {
   "cell_type": "code",
   "execution_count": 3,
   "metadata": {},
   "outputs": [
    {
     "data": {
      "text/html": [
       "<div>\n",
       "<style scoped>\n",
       "    .dataframe tbody tr th:only-of-type {\n",
       "        vertical-align: middle;\n",
       "    }\n",
       "\n",
       "    .dataframe tbody tr th {\n",
       "        vertical-align: top;\n",
       "    }\n",
       "\n",
       "    .dataframe thead th {\n",
       "        text-align: right;\n",
       "    }\n",
       "</style>\n",
       "<table border=\"1\" class=\"dataframe\">\n",
       "  <thead>\n",
       "    <tr style=\"text-align: right;\">\n",
       "      <th></th>\n",
       "      <th>name</th>\n",
       "      <th>regions</th>\n",
       "      <th>start_dt</th>\n",
       "      <th>finish_dt</th>\n",
       "    </tr>\n",
       "  </thead>\n",
       "  <tbody>\n",
       "    <tr>\n",
       "      <th>0</th>\n",
       "      <td>Christmas&amp;New Year Promo</td>\n",
       "      <td>EU, N.America</td>\n",
       "      <td>2020-12-25</td>\n",
       "      <td>2021-01-03</td>\n",
       "    </tr>\n",
       "    <tr>\n",
       "      <th>1</th>\n",
       "      <td>St. Valentine's Day Giveaway</td>\n",
       "      <td>EU, CIS, APAC, N.America</td>\n",
       "      <td>2020-02-14</td>\n",
       "      <td>2020-02-16</td>\n",
       "    </tr>\n",
       "    <tr>\n",
       "      <th>2</th>\n",
       "      <td>St. Patric's Day Promo</td>\n",
       "      <td>EU, N.America</td>\n",
       "      <td>2020-03-17</td>\n",
       "      <td>2020-03-19</td>\n",
       "    </tr>\n",
       "    <tr>\n",
       "      <th>3</th>\n",
       "      <td>Easter Promo</td>\n",
       "      <td>EU, CIS, APAC, N.America</td>\n",
       "      <td>2020-04-12</td>\n",
       "      <td>2020-04-19</td>\n",
       "    </tr>\n",
       "    <tr>\n",
       "      <th>4</th>\n",
       "      <td>4th of July Promo</td>\n",
       "      <td>N.America</td>\n",
       "      <td>2020-07-04</td>\n",
       "      <td>2020-07-11</td>\n",
       "    </tr>\n",
       "    <tr>\n",
       "      <th>5</th>\n",
       "      <td>Black Friday Ads Campaign</td>\n",
       "      <td>EU, CIS, APAC, N.America</td>\n",
       "      <td>2020-11-26</td>\n",
       "      <td>2020-12-01</td>\n",
       "    </tr>\n",
       "    <tr>\n",
       "      <th>6</th>\n",
       "      <td>Chinese New Year Promo</td>\n",
       "      <td>APAC</td>\n",
       "      <td>2020-01-25</td>\n",
       "      <td>2020-02-07</td>\n",
       "    </tr>\n",
       "    <tr>\n",
       "      <th>7</th>\n",
       "      <td>Labor day (May 1st) Ads Campaign</td>\n",
       "      <td>EU, CIS, APAC</td>\n",
       "      <td>2020-05-01</td>\n",
       "      <td>2020-05-03</td>\n",
       "    </tr>\n",
       "    <tr>\n",
       "      <th>8</th>\n",
       "      <td>International Women's Day Promo</td>\n",
       "      <td>EU, CIS, APAC</td>\n",
       "      <td>2020-03-08</td>\n",
       "      <td>2020-03-10</td>\n",
       "    </tr>\n",
       "    <tr>\n",
       "      <th>9</th>\n",
       "      <td>Victory Day CIS (May 9th) Event</td>\n",
       "      <td>CIS</td>\n",
       "      <td>2020-05-09</td>\n",
       "      <td>2020-05-11</td>\n",
       "    </tr>\n",
       "    <tr>\n",
       "      <th>10</th>\n",
       "      <td>CIS New Year Gift Lottery</td>\n",
       "      <td>CIS</td>\n",
       "      <td>2020-12-30</td>\n",
       "      <td>2021-01-07</td>\n",
       "    </tr>\n",
       "    <tr>\n",
       "      <th>11</th>\n",
       "      <td>Dragon Boat Festival Giveaway</td>\n",
       "      <td>APAC</td>\n",
       "      <td>2020-06-25</td>\n",
       "      <td>2020-07-01</td>\n",
       "    </tr>\n",
       "    <tr>\n",
       "      <th>12</th>\n",
       "      <td>Single's Day Gift Promo</td>\n",
       "      <td>APAC</td>\n",
       "      <td>2020-11-11</td>\n",
       "      <td>2020-11-12</td>\n",
       "    </tr>\n",
       "    <tr>\n",
       "      <th>13</th>\n",
       "      <td>Chinese Moon Festival</td>\n",
       "      <td>APAC</td>\n",
       "      <td>2020-10-01</td>\n",
       "      <td>2020-10-07</td>\n",
       "    </tr>\n",
       "  </tbody>\n",
       "</table>\n",
       "</div>"
      ],
      "text/plain": [
       "                                name                   regions    start_dt  \\\n",
       "0           Christmas&New Year Promo             EU, N.America  2020-12-25   \n",
       "1       St. Valentine's Day Giveaway  EU, CIS, APAC, N.America  2020-02-14   \n",
       "2             St. Patric's Day Promo             EU, N.America  2020-03-17   \n",
       "3                       Easter Promo  EU, CIS, APAC, N.America  2020-04-12   \n",
       "4                  4th of July Promo                 N.America  2020-07-04   \n",
       "5          Black Friday Ads Campaign  EU, CIS, APAC, N.America  2020-11-26   \n",
       "6             Chinese New Year Promo                      APAC  2020-01-25   \n",
       "7   Labor day (May 1st) Ads Campaign             EU, CIS, APAC  2020-05-01   \n",
       "8    International Women's Day Promo             EU, CIS, APAC  2020-03-08   \n",
       "9    Victory Day CIS (May 9th) Event                       CIS  2020-05-09   \n",
       "10         CIS New Year Gift Lottery                       CIS  2020-12-30   \n",
       "11     Dragon Boat Festival Giveaway                      APAC  2020-06-25   \n",
       "12           Single's Day Gift Promo                      APAC  2020-11-11   \n",
       "13             Chinese Moon Festival                      APAC  2020-10-01   \n",
       "\n",
       "     finish_dt  \n",
       "0   2021-01-03  \n",
       "1   2020-02-16  \n",
       "2   2020-03-19  \n",
       "3   2020-04-19  \n",
       "4   2020-07-11  \n",
       "5   2020-12-01  \n",
       "6   2020-02-07  \n",
       "7   2020-05-03  \n",
       "8   2020-03-10  \n",
       "9   2020-05-11  \n",
       "10  2021-01-07  \n",
       "11  2020-07-01  \n",
       "12  2020-11-12  \n",
       "13  2020-10-07  "
      ]
     },
     "execution_count": 3,
     "metadata": {},
     "output_type": "execute_result"
    }
   ],
   "source": [
    "marketing_events"
   ]
  },
  {
   "cell_type": "code",
   "execution_count": 4,
   "metadata": {},
   "outputs": [
    {
     "data": {
      "text/html": [
       "<div>\n",
       "<style scoped>\n",
       "    .dataframe tbody tr th:only-of-type {\n",
       "        vertical-align: middle;\n",
       "    }\n",
       "\n",
       "    .dataframe tbody tr th {\n",
       "        vertical-align: top;\n",
       "    }\n",
       "\n",
       "    .dataframe thead th {\n",
       "        text-align: right;\n",
       "    }\n",
       "</style>\n",
       "<table border=\"1\" class=\"dataframe\">\n",
       "  <thead>\n",
       "    <tr style=\"text-align: right;\">\n",
       "      <th></th>\n",
       "      <th>user_id</th>\n",
       "      <th>first_date</th>\n",
       "      <th>region</th>\n",
       "      <th>device</th>\n",
       "    </tr>\n",
       "  </thead>\n",
       "  <tbody>\n",
       "    <tr>\n",
       "      <th>0</th>\n",
       "      <td>D72A72121175D8BE</td>\n",
       "      <td>2020-12-07</td>\n",
       "      <td>EU</td>\n",
       "      <td>PC</td>\n",
       "    </tr>\n",
       "    <tr>\n",
       "      <th>1</th>\n",
       "      <td>F1C668619DFE6E65</td>\n",
       "      <td>2020-12-07</td>\n",
       "      <td>N.America</td>\n",
       "      <td>Android</td>\n",
       "    </tr>\n",
       "    <tr>\n",
       "      <th>2</th>\n",
       "      <td>2E1BF1D4C37EA01F</td>\n",
       "      <td>2020-12-07</td>\n",
       "      <td>EU</td>\n",
       "      <td>PC</td>\n",
       "    </tr>\n",
       "    <tr>\n",
       "      <th>3</th>\n",
       "      <td>50734A22C0C63768</td>\n",
       "      <td>2020-12-07</td>\n",
       "      <td>EU</td>\n",
       "      <td>iPhone</td>\n",
       "    </tr>\n",
       "    <tr>\n",
       "      <th>4</th>\n",
       "      <td>E1BDDCE0DAFA2679</td>\n",
       "      <td>2020-12-07</td>\n",
       "      <td>N.America</td>\n",
       "      <td>iPhone</td>\n",
       "    </tr>\n",
       "    <tr>\n",
       "      <th>...</th>\n",
       "      <td>...</td>\n",
       "      <td>...</td>\n",
       "      <td>...</td>\n",
       "      <td>...</td>\n",
       "    </tr>\n",
       "    <tr>\n",
       "      <th>58698</th>\n",
       "      <td>1DB53B933257165D</td>\n",
       "      <td>2020-12-20</td>\n",
       "      <td>EU</td>\n",
       "      <td>Android</td>\n",
       "    </tr>\n",
       "    <tr>\n",
       "      <th>58699</th>\n",
       "      <td>538643EB4527ED03</td>\n",
       "      <td>2020-12-20</td>\n",
       "      <td>EU</td>\n",
       "      <td>Mac</td>\n",
       "    </tr>\n",
       "    <tr>\n",
       "      <th>58700</th>\n",
       "      <td>7ADEE837D5D8CBBD</td>\n",
       "      <td>2020-12-20</td>\n",
       "      <td>EU</td>\n",
       "      <td>PC</td>\n",
       "    </tr>\n",
       "    <tr>\n",
       "      <th>58701</th>\n",
       "      <td>1C7D23927835213F</td>\n",
       "      <td>2020-12-20</td>\n",
       "      <td>EU</td>\n",
       "      <td>iPhone</td>\n",
       "    </tr>\n",
       "    <tr>\n",
       "      <th>58702</th>\n",
       "      <td>8F04273BB2860229</td>\n",
       "      <td>2020-12-20</td>\n",
       "      <td>EU</td>\n",
       "      <td>Android</td>\n",
       "    </tr>\n",
       "  </tbody>\n",
       "</table>\n",
       "<p>58703 rows × 4 columns</p>\n",
       "</div>"
      ],
      "text/plain": [
       "                user_id  first_date     region   device\n",
       "0      D72A72121175D8BE  2020-12-07         EU       PC\n",
       "1      F1C668619DFE6E65  2020-12-07  N.America  Android\n",
       "2      2E1BF1D4C37EA01F  2020-12-07         EU       PC\n",
       "3      50734A22C0C63768  2020-12-07         EU   iPhone\n",
       "4      E1BDDCE0DAFA2679  2020-12-07  N.America   iPhone\n",
       "...                 ...         ...        ...      ...\n",
       "58698  1DB53B933257165D  2020-12-20         EU  Android\n",
       "58699  538643EB4527ED03  2020-12-20         EU      Mac\n",
       "58700  7ADEE837D5D8CBBD  2020-12-20         EU       PC\n",
       "58701  1C7D23927835213F  2020-12-20         EU   iPhone\n",
       "58702  8F04273BB2860229  2020-12-20         EU  Android\n",
       "\n",
       "[58703 rows x 4 columns]"
      ]
     },
     "execution_count": 4,
     "metadata": {},
     "output_type": "execute_result"
    }
   ],
   "source": [
    "new_users"
   ]
  },
  {
   "cell_type": "code",
   "execution_count": 5,
   "metadata": {},
   "outputs": [
    {
     "data": {
      "text/html": [
       "<div>\n",
       "<style scoped>\n",
       "    .dataframe tbody tr th:only-of-type {\n",
       "        vertical-align: middle;\n",
       "    }\n",
       "\n",
       "    .dataframe tbody tr th {\n",
       "        vertical-align: top;\n",
       "    }\n",
       "\n",
       "    .dataframe thead th {\n",
       "        text-align: right;\n",
       "    }\n",
       "</style>\n",
       "<table border=\"1\" class=\"dataframe\">\n",
       "  <thead>\n",
       "    <tr style=\"text-align: right;\">\n",
       "      <th></th>\n",
       "      <th>user_id</th>\n",
       "      <th>event_dt</th>\n",
       "      <th>event_name</th>\n",
       "      <th>details</th>\n",
       "    </tr>\n",
       "  </thead>\n",
       "  <tbody>\n",
       "    <tr>\n",
       "      <th>0</th>\n",
       "      <td>E1BDDCE0DAFA2679</td>\n",
       "      <td>2020-12-07 20:22:03</td>\n",
       "      <td>purchase</td>\n",
       "      <td>99.99</td>\n",
       "    </tr>\n",
       "    <tr>\n",
       "      <th>1</th>\n",
       "      <td>7B6452F081F49504</td>\n",
       "      <td>2020-12-07 09:22:53</td>\n",
       "      <td>purchase</td>\n",
       "      <td>9.99</td>\n",
       "    </tr>\n",
       "    <tr>\n",
       "      <th>2</th>\n",
       "      <td>9CD9F34546DF254C</td>\n",
       "      <td>2020-12-07 12:59:29</td>\n",
       "      <td>purchase</td>\n",
       "      <td>4.99</td>\n",
       "    </tr>\n",
       "    <tr>\n",
       "      <th>3</th>\n",
       "      <td>96F27A054B191457</td>\n",
       "      <td>2020-12-07 04:02:40</td>\n",
       "      <td>purchase</td>\n",
       "      <td>4.99</td>\n",
       "    </tr>\n",
       "    <tr>\n",
       "      <th>4</th>\n",
       "      <td>1FD7660FDF94CA1F</td>\n",
       "      <td>2020-12-07 10:15:09</td>\n",
       "      <td>purchase</td>\n",
       "      <td>4.99</td>\n",
       "    </tr>\n",
       "    <tr>\n",
       "      <th>...</th>\n",
       "      <td>...</td>\n",
       "      <td>...</td>\n",
       "      <td>...</td>\n",
       "      <td>...</td>\n",
       "    </tr>\n",
       "    <tr>\n",
       "      <th>423756</th>\n",
       "      <td>245E85F65C358E08</td>\n",
       "      <td>2020-12-30 19:35:55</td>\n",
       "      <td>login</td>\n",
       "      <td>NaN</td>\n",
       "    </tr>\n",
       "    <tr>\n",
       "      <th>423757</th>\n",
       "      <td>9385A108F5A0A7A7</td>\n",
       "      <td>2020-12-30 10:54:15</td>\n",
       "      <td>login</td>\n",
       "      <td>NaN</td>\n",
       "    </tr>\n",
       "    <tr>\n",
       "      <th>423758</th>\n",
       "      <td>DB650B7559AC6EAC</td>\n",
       "      <td>2020-12-30 10:59:09</td>\n",
       "      <td>login</td>\n",
       "      <td>NaN</td>\n",
       "    </tr>\n",
       "    <tr>\n",
       "      <th>423759</th>\n",
       "      <td>F80C9BDDEA02E53C</td>\n",
       "      <td>2020-12-30 09:53:39</td>\n",
       "      <td>login</td>\n",
       "      <td>NaN</td>\n",
       "    </tr>\n",
       "    <tr>\n",
       "      <th>423760</th>\n",
       "      <td>7AEC61159B672CC5</td>\n",
       "      <td>2020-12-30 11:36:13</td>\n",
       "      <td>login</td>\n",
       "      <td>NaN</td>\n",
       "    </tr>\n",
       "  </tbody>\n",
       "</table>\n",
       "<p>423761 rows × 4 columns</p>\n",
       "</div>"
      ],
      "text/plain": [
       "                 user_id             event_dt event_name  details\n",
       "0       E1BDDCE0DAFA2679  2020-12-07 20:22:03   purchase    99.99\n",
       "1       7B6452F081F49504  2020-12-07 09:22:53   purchase     9.99\n",
       "2       9CD9F34546DF254C  2020-12-07 12:59:29   purchase     4.99\n",
       "3       96F27A054B191457  2020-12-07 04:02:40   purchase     4.99\n",
       "4       1FD7660FDF94CA1F  2020-12-07 10:15:09   purchase     4.99\n",
       "...                  ...                  ...        ...      ...\n",
       "423756  245E85F65C358E08  2020-12-30 19:35:55      login      NaN\n",
       "423757  9385A108F5A0A7A7  2020-12-30 10:54:15      login      NaN\n",
       "423758  DB650B7559AC6EAC  2020-12-30 10:59:09      login      NaN\n",
       "423759  F80C9BDDEA02E53C  2020-12-30 09:53:39      login      NaN\n",
       "423760  7AEC61159B672CC5  2020-12-30 11:36:13      login      NaN\n",
       "\n",
       "[423761 rows x 4 columns]"
      ]
     },
     "execution_count": 5,
     "metadata": {},
     "output_type": "execute_result"
    }
   ],
   "source": [
    "new_users_events"
   ]
  },
  {
   "cell_type": "code",
   "execution_count": null,
   "metadata": {},
   "outputs": [],
   "source": []
  },
  {
   "cell_type": "code",
   "execution_count": 6,
   "metadata": {},
   "outputs": [
    {
     "data": {
      "text/html": [
       "<div>\n",
       "<style scoped>\n",
       "    .dataframe tbody tr th:only-of-type {\n",
       "        vertical-align: middle;\n",
       "    }\n",
       "\n",
       "    .dataframe tbody tr th {\n",
       "        vertical-align: top;\n",
       "    }\n",
       "\n",
       "    .dataframe thead th {\n",
       "        text-align: right;\n",
       "    }\n",
       "</style>\n",
       "<table border=\"1\" class=\"dataframe\">\n",
       "  <thead>\n",
       "    <tr style=\"text-align: right;\">\n",
       "      <th></th>\n",
       "      <th>user_id</th>\n",
       "      <th>group</th>\n",
       "      <th>ab_test</th>\n",
       "    </tr>\n",
       "  </thead>\n",
       "  <tbody>\n",
       "    <tr>\n",
       "      <th>0</th>\n",
       "      <td>D1ABA3E2887B6A73</td>\n",
       "      <td>A</td>\n",
       "      <td>recommender_system_test</td>\n",
       "    </tr>\n",
       "    <tr>\n",
       "      <th>1</th>\n",
       "      <td>A7A3664BD6242119</td>\n",
       "      <td>A</td>\n",
       "      <td>recommender_system_test</td>\n",
       "    </tr>\n",
       "    <tr>\n",
       "      <th>2</th>\n",
       "      <td>DABC14FDDFADD29E</td>\n",
       "      <td>A</td>\n",
       "      <td>recommender_system_test</td>\n",
       "    </tr>\n",
       "    <tr>\n",
       "      <th>3</th>\n",
       "      <td>04988C5DF189632E</td>\n",
       "      <td>A</td>\n",
       "      <td>recommender_system_test</td>\n",
       "    </tr>\n",
       "    <tr>\n",
       "      <th>4</th>\n",
       "      <td>4FF2998A348C484F</td>\n",
       "      <td>A</td>\n",
       "      <td>recommender_system_test</td>\n",
       "    </tr>\n",
       "    <tr>\n",
       "      <th>...</th>\n",
       "      <td>...</td>\n",
       "      <td>...</td>\n",
       "      <td>...</td>\n",
       "    </tr>\n",
       "    <tr>\n",
       "      <th>14520</th>\n",
       "      <td>1D302F8688B91781</td>\n",
       "      <td>B</td>\n",
       "      <td>interface_eu_test</td>\n",
       "    </tr>\n",
       "    <tr>\n",
       "      <th>14521</th>\n",
       "      <td>3DE51B726983B657</td>\n",
       "      <td>A</td>\n",
       "      <td>interface_eu_test</td>\n",
       "    </tr>\n",
       "    <tr>\n",
       "      <th>14522</th>\n",
       "      <td>F501F79D332BE86C</td>\n",
       "      <td>A</td>\n",
       "      <td>interface_eu_test</td>\n",
       "    </tr>\n",
       "    <tr>\n",
       "      <th>14523</th>\n",
       "      <td>63FBE257B05F2245</td>\n",
       "      <td>A</td>\n",
       "      <td>interface_eu_test</td>\n",
       "    </tr>\n",
       "    <tr>\n",
       "      <th>14524</th>\n",
       "      <td>79F9ABFB029CF724</td>\n",
       "      <td>B</td>\n",
       "      <td>interface_eu_test</td>\n",
       "    </tr>\n",
       "  </tbody>\n",
       "</table>\n",
       "<p>14525 rows × 3 columns</p>\n",
       "</div>"
      ],
      "text/plain": [
       "                user_id group                  ab_test\n",
       "0      D1ABA3E2887B6A73     A  recommender_system_test\n",
       "1      A7A3664BD6242119     A  recommender_system_test\n",
       "2      DABC14FDDFADD29E     A  recommender_system_test\n",
       "3      04988C5DF189632E     A  recommender_system_test\n",
       "4      4FF2998A348C484F     A  recommender_system_test\n",
       "...                 ...   ...                      ...\n",
       "14520  1D302F8688B91781     B        interface_eu_test\n",
       "14521  3DE51B726983B657     A        interface_eu_test\n",
       "14522  F501F79D332BE86C     A        interface_eu_test\n",
       "14523  63FBE257B05F2245     A        interface_eu_test\n",
       "14524  79F9ABFB029CF724     B        interface_eu_test\n",
       "\n",
       "[14525 rows x 3 columns]"
      ]
     },
     "execution_count": 6,
     "metadata": {},
     "output_type": "execute_result"
    }
   ],
   "source": [
    "test_participants"
   ]
  },
  {
   "cell_type": "raw",
   "metadata": {},
   "source": []
  },
  {
   "cell_type": "markdown",
   "metadata": {},
   "source": [
    "# Análise exploratória dos dados (AED) : "
   ]
  },
  {
   "cell_type": "markdown",
   "metadata": {},
   "source": [
    "## marketing_events "
   ]
  },
  {
   "cell_type": "code",
   "execution_count": 7,
   "metadata": {},
   "outputs": [
    {
     "name": "stdout",
     "output_type": "stream",
     "text": [
      "<class 'pandas.core.frame.DataFrame'>\n",
      "RangeIndex: 14 entries, 0 to 13\n",
      "Data columns (total 4 columns):\n",
      " #   Column     Non-Null Count  Dtype \n",
      "---  ------     --------------  ----- \n",
      " 0   name       14 non-null     object\n",
      " 1   regions    14 non-null     object\n",
      " 2   start_dt   14 non-null     object\n",
      " 3   finish_dt  14 non-null     object\n",
      "dtypes: object(4)\n",
      "memory usage: 576.0+ bytes\n"
     ]
    }
   ],
   "source": [
    "# visualizando informações básicas do conjunto de dados:\n",
    "\n",
    "marketing_events.info()"
   ]
  },
  {
   "cell_type": "code",
   "execution_count": 8,
   "metadata": {},
   "outputs": [
    {
     "data": {
      "text/html": [
       "<div>\n",
       "<style scoped>\n",
       "    .dataframe tbody tr th:only-of-type {\n",
       "        vertical-align: middle;\n",
       "    }\n",
       "\n",
       "    .dataframe tbody tr th {\n",
       "        vertical-align: top;\n",
       "    }\n",
       "\n",
       "    .dataframe thead th {\n",
       "        text-align: right;\n",
       "    }\n",
       "</style>\n",
       "<table border=\"1\" class=\"dataframe\">\n",
       "  <thead>\n",
       "    <tr style=\"text-align: right;\">\n",
       "      <th></th>\n",
       "      <th>name</th>\n",
       "      <th>regions</th>\n",
       "      <th>start_dt</th>\n",
       "      <th>finish_dt</th>\n",
       "    </tr>\n",
       "  </thead>\n",
       "  <tbody>\n",
       "    <tr>\n",
       "      <th>count</th>\n",
       "      <td>14</td>\n",
       "      <td>14</td>\n",
       "      <td>14</td>\n",
       "      <td>14</td>\n",
       "    </tr>\n",
       "    <tr>\n",
       "      <th>unique</th>\n",
       "      <td>14</td>\n",
       "      <td>6</td>\n",
       "      <td>14</td>\n",
       "      <td>14</td>\n",
       "    </tr>\n",
       "    <tr>\n",
       "      <th>top</th>\n",
       "      <td>Easter Promo</td>\n",
       "      <td>APAC</td>\n",
       "      <td>2020-07-04</td>\n",
       "      <td>2020-07-11</td>\n",
       "    </tr>\n",
       "    <tr>\n",
       "      <th>freq</th>\n",
       "      <td>1</td>\n",
       "      <td>4</td>\n",
       "      <td>1</td>\n",
       "      <td>1</td>\n",
       "    </tr>\n",
       "  </tbody>\n",
       "</table>\n",
       "</div>"
      ],
      "text/plain": [
       "                name regions    start_dt   finish_dt\n",
       "count             14      14          14          14\n",
       "unique            14       6          14          14\n",
       "top     Easter Promo    APAC  2020-07-04  2020-07-11\n",
       "freq               1       4           1           1"
      ]
     },
     "execution_count": 8,
     "metadata": {},
     "output_type": "execute_result"
    }
   ],
   "source": [
    "# visualizando estatísticas básicas: \n",
    "\n",
    "marketing_events.describe()"
   ]
  },
  {
   "cell_type": "code",
   "execution_count": 9,
   "metadata": {},
   "outputs": [
    {
     "data": {
      "text/plain": [
       "0"
      ]
     },
     "execution_count": 9,
     "metadata": {},
     "output_type": "execute_result"
    }
   ],
   "source": [
    "# Consultando se existem dados duplicados:\n",
    "\n",
    "marketing_events.duplicated().sum()"
   ]
  },
  {
   "cell_type": "code",
   "execution_count": 10,
   "metadata": {},
   "outputs": [],
   "source": [
    "# Alterando o tipo dos dados das colunas 'start_dt' e 'finish_dt' para Datetime:\n",
    "\n",
    "marketing_events['start_dt'] = pd.to_datetime(marketing_events['start_dt'])\n",
    "marketing_events['finish_dt'] = pd.to_datetime(marketing_events['finish_dt'])"
   ]
  },
  {
   "cell_type": "code",
   "execution_count": 11,
   "metadata": {},
   "outputs": [
    {
     "name": "stdout",
     "output_type": "stream",
     "text": [
      "<class 'pandas.core.frame.DataFrame'>\n",
      "RangeIndex: 14 entries, 0 to 13\n",
      "Data columns (total 4 columns):\n",
      " #   Column     Non-Null Count  Dtype         \n",
      "---  ------     --------------  -----         \n",
      " 0   name       14 non-null     object        \n",
      " 1   regions    14 non-null     object        \n",
      " 2   start_dt   14 non-null     datetime64[ns]\n",
      " 3   finish_dt  14 non-null     datetime64[ns]\n",
      "dtypes: datetime64[ns](2), object(2)\n",
      "memory usage: 576.0+ bytes\n"
     ]
    }
   ],
   "source": [
    "marketing_events.info()"
   ]
  },
  {
   "cell_type": "raw",
   "metadata": {},
   "source": []
  },
  {
   "cell_type": "markdown",
   "metadata": {},
   "source": [
    "## new_users"
   ]
  },
  {
   "cell_type": "code",
   "execution_count": 12,
   "metadata": {},
   "outputs": [
    {
     "name": "stdout",
     "output_type": "stream",
     "text": [
      "<class 'pandas.core.frame.DataFrame'>\n",
      "RangeIndex: 58703 entries, 0 to 58702\n",
      "Data columns (total 4 columns):\n",
      " #   Column      Non-Null Count  Dtype \n",
      "---  ------      --------------  ----- \n",
      " 0   user_id     58703 non-null  object\n",
      " 1   first_date  58703 non-null  object\n",
      " 2   region      58703 non-null  object\n",
      " 3   device      58703 non-null  object\n",
      "dtypes: object(4)\n",
      "memory usage: 1.8+ MB\n"
     ]
    }
   ],
   "source": [
    "# visualizando informações básicas do conjunto de dados:\n",
    "\n",
    "new_users.info()"
   ]
  },
  {
   "cell_type": "code",
   "execution_count": 13,
   "metadata": {},
   "outputs": [
    {
     "data": {
      "text/html": [
       "<div>\n",
       "<style scoped>\n",
       "    .dataframe tbody tr th:only-of-type {\n",
       "        vertical-align: middle;\n",
       "    }\n",
       "\n",
       "    .dataframe tbody tr th {\n",
       "        vertical-align: top;\n",
       "    }\n",
       "\n",
       "    .dataframe thead th {\n",
       "        text-align: right;\n",
       "    }\n",
       "</style>\n",
       "<table border=\"1\" class=\"dataframe\">\n",
       "  <thead>\n",
       "    <tr style=\"text-align: right;\">\n",
       "      <th></th>\n",
       "      <th>user_id</th>\n",
       "      <th>first_date</th>\n",
       "      <th>region</th>\n",
       "      <th>device</th>\n",
       "    </tr>\n",
       "  </thead>\n",
       "  <tbody>\n",
       "    <tr>\n",
       "      <th>count</th>\n",
       "      <td>58703</td>\n",
       "      <td>58703</td>\n",
       "      <td>58703</td>\n",
       "      <td>58703</td>\n",
       "    </tr>\n",
       "    <tr>\n",
       "      <th>unique</th>\n",
       "      <td>58703</td>\n",
       "      <td>17</td>\n",
       "      <td>4</td>\n",
       "      <td>4</td>\n",
       "    </tr>\n",
       "    <tr>\n",
       "      <th>top</th>\n",
       "      <td>31BF5EE63818001F</td>\n",
       "      <td>2020-12-21</td>\n",
       "      <td>EU</td>\n",
       "      <td>Android</td>\n",
       "    </tr>\n",
       "    <tr>\n",
       "      <th>freq</th>\n",
       "      <td>1</td>\n",
       "      <td>6077</td>\n",
       "      <td>43396</td>\n",
       "      <td>26159</td>\n",
       "    </tr>\n",
       "  </tbody>\n",
       "</table>\n",
       "</div>"
      ],
      "text/plain": [
       "                 user_id  first_date region   device\n",
       "count              58703       58703  58703    58703\n",
       "unique             58703          17      4        4\n",
       "top     31BF5EE63818001F  2020-12-21     EU  Android\n",
       "freq                   1        6077  43396    26159"
      ]
     },
     "execution_count": 13,
     "metadata": {},
     "output_type": "execute_result"
    }
   ],
   "source": [
    "# visualizando estatísticas básicas: \n",
    "\n",
    "new_users.describe()"
   ]
  },
  {
   "cell_type": "code",
   "execution_count": 14,
   "metadata": {},
   "outputs": [
    {
     "data": {
      "text/plain": [
       "0"
      ]
     },
     "execution_count": 14,
     "metadata": {},
     "output_type": "execute_result"
    }
   ],
   "source": [
    "# Consultando se existem dados duplicados:\n",
    "\n",
    "new_users.duplicated().sum()"
   ]
  },
  {
   "cell_type": "code",
   "execution_count": 15,
   "metadata": {},
   "outputs": [],
   "source": [
    "# Alterando o tipo dos dados da coluna 'first_date' para Datetime:\n",
    "\n",
    "new_users['first_date'] = pd.to_datetime(new_users['first_date'])"
   ]
  },
  {
   "cell_type": "code",
   "execution_count": 16,
   "metadata": {},
   "outputs": [
    {
     "name": "stdout",
     "output_type": "stream",
     "text": [
      "<class 'pandas.core.frame.DataFrame'>\n",
      "RangeIndex: 58703 entries, 0 to 58702\n",
      "Data columns (total 4 columns):\n",
      " #   Column      Non-Null Count  Dtype         \n",
      "---  ------      --------------  -----         \n",
      " 0   user_id     58703 non-null  object        \n",
      " 1   first_date  58703 non-null  datetime64[ns]\n",
      " 2   region      58703 non-null  object        \n",
      " 3   device      58703 non-null  object        \n",
      "dtypes: datetime64[ns](1), object(3)\n",
      "memory usage: 1.8+ MB\n"
     ]
    }
   ],
   "source": [
    "new_users.info()"
   ]
  },
  {
   "cell_type": "raw",
   "metadata": {},
   "source": []
  },
  {
   "cell_type": "markdown",
   "metadata": {},
   "source": [
    "## new_users_events"
   ]
  },
  {
   "cell_type": "code",
   "execution_count": 17,
   "metadata": {},
   "outputs": [
    {
     "name": "stdout",
     "output_type": "stream",
     "text": [
      "<class 'pandas.core.frame.DataFrame'>\n",
      "RangeIndex: 423761 entries, 0 to 423760\n",
      "Data columns (total 4 columns):\n",
      " #   Column      Non-Null Count   Dtype  \n",
      "---  ------      --------------   -----  \n",
      " 0   user_id     423761 non-null  object \n",
      " 1   event_dt    423761 non-null  object \n",
      " 2   event_name  423761 non-null  object \n",
      " 3   details     60314 non-null   float64\n",
      "dtypes: float64(1), object(3)\n",
      "memory usage: 12.9+ MB\n"
     ]
    }
   ],
   "source": [
    "# visualizando informações básicas do conjunto de dados:\n",
    "\n",
    "new_users_events.info()"
   ]
  },
  {
   "cell_type": "markdown",
   "metadata": {},
   "source": [
    "A coluna 'details' possuí muitos valores ausentes, essa coluna possuí detalhes sobre o evento realizado, como por exemplo o total do pedido em USD para aquele evento.\n",
    "\n",
    "Sendo assim conclui que a coluna 'details' só possuí valores quando ocorreu uma compra  de fato, então os valores estão diretamete ligados a coluna 'event_name', a coluna 'details' só apresenta valores quando a coluna 'event_name' é igual a 'purchase' "
   ]
  },
  {
   "cell_type": "code",
   "execution_count": 18,
   "metadata": {},
   "outputs": [
    {
     "data": {
      "text/plain": [
       "login           182465\n",
       "product_page    120862\n",
       "purchase         60314\n",
       "product_cart     60120\n",
       "Name: event_name, dtype: int64"
      ]
     },
     "execution_count": 18,
     "metadata": {},
     "output_type": "execute_result"
    }
   ],
   "source": [
    "new_users_events['event_name'].value_counts()"
   ]
  },
  {
   "cell_type": "markdown",
   "metadata": {},
   "source": [
    "Podemos observar que a contagem para 'purchase' na coluna 'event_name' é a mesma contagem de valores na coluna 'details' "
   ]
  },
  {
   "cell_type": "code",
   "execution_count": 19,
   "metadata": {},
   "outputs": [
    {
     "data": {
      "text/html": [
       "<div>\n",
       "<style scoped>\n",
       "    .dataframe tbody tr th:only-of-type {\n",
       "        vertical-align: middle;\n",
       "    }\n",
       "\n",
       "    .dataframe tbody tr th {\n",
       "        vertical-align: top;\n",
       "    }\n",
       "\n",
       "    .dataframe thead th {\n",
       "        text-align: right;\n",
       "    }\n",
       "</style>\n",
       "<table border=\"1\" class=\"dataframe\">\n",
       "  <thead>\n",
       "    <tr style=\"text-align: right;\">\n",
       "      <th></th>\n",
       "      <th>details</th>\n",
       "    </tr>\n",
       "  </thead>\n",
       "  <tbody>\n",
       "    <tr>\n",
       "      <th>count</th>\n",
       "      <td>60314.000000</td>\n",
       "    </tr>\n",
       "    <tr>\n",
       "      <th>mean</th>\n",
       "      <td>23.881219</td>\n",
       "    </tr>\n",
       "    <tr>\n",
       "      <th>std</th>\n",
       "      <td>72.228884</td>\n",
       "    </tr>\n",
       "    <tr>\n",
       "      <th>min</th>\n",
       "      <td>4.990000</td>\n",
       "    </tr>\n",
       "    <tr>\n",
       "      <th>25%</th>\n",
       "      <td>4.990000</td>\n",
       "    </tr>\n",
       "    <tr>\n",
       "      <th>50%</th>\n",
       "      <td>4.990000</td>\n",
       "    </tr>\n",
       "    <tr>\n",
       "      <th>75%</th>\n",
       "      <td>9.990000</td>\n",
       "    </tr>\n",
       "    <tr>\n",
       "      <th>max</th>\n",
       "      <td>499.990000</td>\n",
       "    </tr>\n",
       "  </tbody>\n",
       "</table>\n",
       "</div>"
      ],
      "text/plain": [
       "            details\n",
       "count  60314.000000\n",
       "mean      23.881219\n",
       "std       72.228884\n",
       "min        4.990000\n",
       "25%        4.990000\n",
       "50%        4.990000\n",
       "75%        9.990000\n",
       "max      499.990000"
      ]
     },
     "execution_count": 19,
     "metadata": {},
     "output_type": "execute_result"
    }
   ],
   "source": [
    "# visualizando estatísticas básicas em new_users_events:\n",
    "\n",
    "new_users_events.describe()"
   ]
  },
  {
   "cell_type": "code",
   "execution_count": 20,
   "metadata": {},
   "outputs": [
    {
     "data": {
      "text/plain": [
       "0"
      ]
     },
     "execution_count": 20,
     "metadata": {},
     "output_type": "execute_result"
    }
   ],
   "source": [
    "# Consultando se existem dados duplicados:\n",
    "\n",
    "new_users_events.duplicated().sum()"
   ]
  },
  {
   "cell_type": "markdown",
   "metadata": {},
   "source": [
    "Agora que sabemos a origem dos valores ausentes, irei substituí-los por 0 para depois dar continuidade a nossa análise."
   ]
  },
  {
   "cell_type": "code",
   "execution_count": 21,
   "metadata": {},
   "outputs": [],
   "source": [
    "# substituindo os valores ausentes em 'details' por 0:\n",
    "\n",
    "new_users_events['details'].fillna(0, inplace=True)"
   ]
  },
  {
   "cell_type": "code",
   "execution_count": 22,
   "metadata": {},
   "outputs": [],
   "source": [
    "# Alterando o tipo dos dados da coluna 'event_dt' para Datetime:\n",
    "\n",
    "new_users_events['event_dt'] = pd.to_datetime(new_users_events['event_dt'])"
   ]
  },
  {
   "cell_type": "code",
   "execution_count": 23,
   "metadata": {},
   "outputs": [
    {
     "name": "stdout",
     "output_type": "stream",
     "text": [
      "<class 'pandas.core.frame.DataFrame'>\n",
      "RangeIndex: 423761 entries, 0 to 423760\n",
      "Data columns (total 4 columns):\n",
      " #   Column      Non-Null Count   Dtype         \n",
      "---  ------      --------------   -----         \n",
      " 0   user_id     423761 non-null  object        \n",
      " 1   event_dt    423761 non-null  datetime64[ns]\n",
      " 2   event_name  423761 non-null  object        \n",
      " 3   details     423761 non-null  float64       \n",
      "dtypes: datetime64[ns](1), float64(1), object(2)\n",
      "memory usage: 12.9+ MB\n"
     ]
    }
   ],
   "source": [
    "new_users_events.info()"
   ]
  },
  {
   "cell_type": "raw",
   "metadata": {},
   "source": []
  },
  {
   "cell_type": "markdown",
   "metadata": {},
   "source": [
    "Sabemos que só foram aceitos novos usuários no periodo entre 07-12-2020 até 21-12-2020 (new_users)\n",
    "\n",
    "e os eventos realizados pelos novos usuários foram entre 07-12-2020 até 01-01-2021 (new_users_events)\n",
    "\n",
    "Sabendo disso, irei exibir os dados que não estão dentro desse período especifico, e dependendo da quantidade irei descartar esses dados para que não afetem nossa análise.\n"
   ]
  },
  {
   "cell_type": "code",
   "execution_count": 24,
   "metadata": {},
   "outputs": [
    {
     "name": "stdout",
     "output_type": "stream",
     "text": [
      "Dados fora do período em `new_users`:\n",
      "                user_id first_date     region   device\n",
      "22757  5815F7ECE74D949F 2020-12-22        CIS       PC\n",
      "22758  32EAEA5E903E3BC1 2020-12-22  N.America  Android\n",
      "22759  9DF7A3C46487EF0B 2020-12-22         EU  Android\n",
      "22760  ADE98C6440423287 2020-12-22         EU   iPhone\n",
      "22761  5A5833D3AEA75255 2020-12-22  N.America       PC\n",
      "...                 ...        ...        ...      ...\n",
      "32118  165AFCBF42C043F8 2020-12-23         EU       PC\n",
      "32119  54E7F36C0E976E24 2020-12-23         EU  Android\n",
      "32120  7E43EB2E03A33E78 2020-12-23         EU       PC\n",
      "32121  B8B679DEE9F2CA06 2020-12-23         EU       PC\n",
      "32122  BE595EE3E9D59FB9 2020-12-23         EU       PC\n",
      "\n",
      "[5263 rows x 4 columns]\n"
     ]
    }
   ],
   "source": [
    "# Definindo o período especificado\n",
    "start_date_new_users = pd.to_datetime('2020-12-07')\n",
    "end_date_new_users = pd.to_datetime('2020-12-21')\n",
    "\n",
    "# Filtrando os dados fora do período especificado em new_users\n",
    "out_of_range_new_users = new_users[(new_users['first_date'] < start_date_new_users) | (new_users['first_date'] > end_date_new_users)]\n",
    "\n",
    "# Exibindo os dados fora do período em new_users\n",
    "print(\"Dados fora do período em `new_users`:\")\n",
    "print(out_of_range_new_users)\n",
    "\n"
   ]
  },
  {
   "cell_type": "markdown",
   "metadata": {},
   "source": [
    "fazendo o mesmo para new_users_events:"
   ]
  },
  {
   "cell_type": "code",
   "execution_count": 25,
   "metadata": {},
   "outputs": [
    {
     "name": "stdout",
     "output_type": "stream",
     "text": [
      "\n",
      "Dados fora do período em `new_users_events`:\n",
      "Empty DataFrame\n",
      "Columns: [user_id, event_dt, event_name, details]\n",
      "Index: []\n"
     ]
    }
   ],
   "source": [
    "# Definindo o período especificado para new_users_events\n",
    "start_date_new_users_events = pd.to_datetime('2020-12-07')\n",
    "end_date_new_users_events = pd.to_datetime('2021-01-01')\n",
    "\n",
    "# Filtrando os dados fora do período especificado em new_users_events\n",
    "out_of_range_new_users_events = new_users_events[(new_users_events['event_dt'] < start_date_new_users_events) | (new_users_events['event_dt'] > end_date_new_users_events)]\n",
    "\n",
    "# Exibindo os dados fora do período em new_users_events\n",
    "print(\"\\nDados fora do período em `new_users_events`:\")\n",
    "print(out_of_range_new_users_events)"
   ]
  },
  {
   "cell_type": "markdown",
   "metadata": {},
   "source": [
    "Verifiquei que existem 5263 linhas/usuários que não correspondem ao periodo especificado, irei excluir essas linhas do de new_users para então dar sequencia na análise"
   ]
  },
  {
   "cell_type": "code",
   "execution_count": 26,
   "metadata": {},
   "outputs": [],
   "source": [
    "#Eliminando os dados fora do periodo especifico: \n",
    "\n",
    "new_users = new_users.drop(out_of_range_new_users.index)"
   ]
  },
  {
   "cell_type": "code",
   "execution_count": 27,
   "metadata": {},
   "outputs": [
    {
     "name": "stdout",
     "output_type": "stream",
     "text": [
      "<class 'pandas.core.frame.DataFrame'>\n",
      "Int64Index: 53440 entries, 0 to 58702\n",
      "Data columns (total 4 columns):\n",
      " #   Column      Non-Null Count  Dtype         \n",
      "---  ------      --------------  -----         \n",
      " 0   user_id     53440 non-null  object        \n",
      " 1   first_date  53440 non-null  datetime64[ns]\n",
      " 2   region      53440 non-null  object        \n",
      " 3   device      53440 non-null  object        \n",
      "dtypes: datetime64[ns](1), object(3)\n",
      "memory usage: 2.0+ MB\n"
     ]
    }
   ],
   "source": [
    "new_users.info()"
   ]
  },
  {
   "cell_type": "markdown",
   "metadata": {},
   "source": [
    "## test_participants"
   ]
  },
  {
   "cell_type": "code",
   "execution_count": 28,
   "metadata": {},
   "outputs": [
    {
     "name": "stdout",
     "output_type": "stream",
     "text": [
      "<class 'pandas.core.frame.DataFrame'>\n",
      "RangeIndex: 14525 entries, 0 to 14524\n",
      "Data columns (total 3 columns):\n",
      " #   Column   Non-Null Count  Dtype \n",
      "---  ------   --------------  ----- \n",
      " 0   user_id  14525 non-null  object\n",
      " 1   group    14525 non-null  object\n",
      " 2   ab_test  14525 non-null  object\n",
      "dtypes: object(3)\n",
      "memory usage: 340.6+ KB\n"
     ]
    }
   ],
   "source": [
    "# visualizado informações básicas do conjunto de dados:\n",
    "\n",
    "test_participants.info()"
   ]
  },
  {
   "cell_type": "code",
   "execution_count": 29,
   "metadata": {},
   "outputs": [
    {
     "data": {
      "text/html": [
       "<div>\n",
       "<style scoped>\n",
       "    .dataframe tbody tr th:only-of-type {\n",
       "        vertical-align: middle;\n",
       "    }\n",
       "\n",
       "    .dataframe tbody tr th {\n",
       "        vertical-align: top;\n",
       "    }\n",
       "\n",
       "    .dataframe thead th {\n",
       "        text-align: right;\n",
       "    }\n",
       "</style>\n",
       "<table border=\"1\" class=\"dataframe\">\n",
       "  <thead>\n",
       "    <tr style=\"text-align: right;\">\n",
       "      <th></th>\n",
       "      <th>user_id</th>\n",
       "      <th>group</th>\n",
       "      <th>ab_test</th>\n",
       "    </tr>\n",
       "  </thead>\n",
       "  <tbody>\n",
       "    <tr>\n",
       "      <th>count</th>\n",
       "      <td>14525</td>\n",
       "      <td>14525</td>\n",
       "      <td>14525</td>\n",
       "    </tr>\n",
       "    <tr>\n",
       "      <th>unique</th>\n",
       "      <td>13638</td>\n",
       "      <td>2</td>\n",
       "      <td>2</td>\n",
       "    </tr>\n",
       "    <tr>\n",
       "      <th>top</th>\n",
       "      <td>7CEFBD3C6ABEF91A</td>\n",
       "      <td>A</td>\n",
       "      <td>interface_eu_test</td>\n",
       "    </tr>\n",
       "    <tr>\n",
       "      <th>freq</th>\n",
       "      <td>2</td>\n",
       "      <td>8214</td>\n",
       "      <td>10850</td>\n",
       "    </tr>\n",
       "  </tbody>\n",
       "</table>\n",
       "</div>"
      ],
      "text/plain": [
       "                 user_id  group            ab_test\n",
       "count              14525  14525              14525\n",
       "unique             13638      2                  2\n",
       "top     7CEFBD3C6ABEF91A      A  interface_eu_test\n",
       "freq                   2   8214              10850"
      ]
     },
     "execution_count": 29,
     "metadata": {},
     "output_type": "execute_result"
    }
   ],
   "source": [
    "# visualizando estatísticas básicas:\n",
    "\n",
    "test_participants.describe()"
   ]
  },
  {
   "cell_type": "code",
   "execution_count": 30,
   "metadata": {},
   "outputs": [
    {
     "data": {
      "text/plain": [
       "0"
      ]
     },
     "execution_count": 30,
     "metadata": {},
     "output_type": "execute_result"
    }
   ],
   "source": [
    "# Consultando se existem dados duplicados:\n",
    "\n",
    "test_participants.duplicated().sum()"
   ]
  },
  {
   "cell_type": "code",
   "execution_count": 31,
   "metadata": {},
   "outputs": [
    {
     "data": {
      "text/plain": [
       "interface_eu_test          10850\n",
       "recommender_system_test     3675\n",
       "Name: ab_test, dtype: int64"
      ]
     },
     "execution_count": 31,
     "metadata": {},
     "output_type": "execute_result"
    }
   ],
   "source": [
    "# Visualizando a contage de usuários que realizou cada teste:\n",
    "\n",
    "test_participants['ab_test'].value_counts()"
   ]
  },
  {
   "cell_type": "markdown",
   "metadata": {},
   "source": [
    "# Vamos enriquecer nossa etapa de EDA. \n",
    "\n",
    "Começando pela visualização da distribuição dos eventos por dia."
   ]
  },
  {
   "cell_type": "code",
   "execution_count": 32,
   "metadata": {},
   "outputs": [
    {
     "data": {
      "image/png": "[encoded data removed]",
      "text/plain": [
       "<Figure size 720x432 with 1 Axes>"
      ]
     },
     "metadata": {
      "needs_background": "light"
     },
     "output_type": "display_data"
    }
   ],
   "source": [
    "# Obtendo a distribuição de eventos por dia\n",
    "events_per_day = new_users_events.groupby(new_users_events['event_dt'].dt.date).size()\n",
    "\n",
    "# Plotando o gráfico de distribuição de eventos por dia\n",
    "plt.figure(figsize=(10, 6))\n",
    "events_per_day.plot(kind='bar', color='blue', alpha=0.7)\n",
    "plt.title('Distribuição de Eventos por Dia')\n",
    "plt.xlabel('Data')\n",
    "plt.ylabel('Número de Eventos')\n",
    "plt.show()"
   ]
  },
  {
   "cell_type": "markdown",
   "metadata": {},
   "source": [
    "Agora vamos visualizar a quantidade de usuários por dia da semana.\n",
    "\n",
    "Primeiro irei criar uma nova coluna em new_users contendo o dia da semana que o usuário fez o registro e depois plotar um gráfico mostrando os resultados."
   ]
  },
  {
   "cell_type": "code",
   "execution_count": 33,
   "metadata": {},
   "outputs": [
    {
     "data": {
      "text/html": [
       "<div>\n",
       "<style scoped>\n",
       "    .dataframe tbody tr th:only-of-type {\n",
       "        vertical-align: middle;\n",
       "    }\n",
       "\n",
       "    .dataframe tbody tr th {\n",
       "        vertical-align: top;\n",
       "    }\n",
       "\n",
       "    .dataframe thead th {\n",
       "        text-align: right;\n",
       "    }\n",
       "</style>\n",
       "<table border=\"1\" class=\"dataframe\">\n",
       "  <thead>\n",
       "    <tr style=\"text-align: right;\">\n",
       "      <th></th>\n",
       "      <th>user_id</th>\n",
       "      <th>first_date</th>\n",
       "      <th>region</th>\n",
       "      <th>device</th>\n",
       "      <th>day_of_week</th>\n",
       "    </tr>\n",
       "  </thead>\n",
       "  <tbody>\n",
       "    <tr>\n",
       "      <th>0</th>\n",
       "      <td>D72A72121175D8BE</td>\n",
       "      <td>2020-12-07</td>\n",
       "      <td>EU</td>\n",
       "      <td>PC</td>\n",
       "      <td>Monday</td>\n",
       "    </tr>\n",
       "    <tr>\n",
       "      <th>1</th>\n",
       "      <td>F1C668619DFE6E65</td>\n",
       "      <td>2020-12-07</td>\n",
       "      <td>N.America</td>\n",
       "      <td>Android</td>\n",
       "      <td>Monday</td>\n",
       "    </tr>\n",
       "    <tr>\n",
       "      <th>2</th>\n",
       "      <td>2E1BF1D4C37EA01F</td>\n",
       "      <td>2020-12-07</td>\n",
       "      <td>EU</td>\n",
       "      <td>PC</td>\n",
       "      <td>Monday</td>\n",
       "    </tr>\n",
       "    <tr>\n",
       "      <th>3</th>\n",
       "      <td>50734A22C0C63768</td>\n",
       "      <td>2020-12-07</td>\n",
       "      <td>EU</td>\n",
       "      <td>iPhone</td>\n",
       "      <td>Monday</td>\n",
       "    </tr>\n",
       "    <tr>\n",
       "      <th>4</th>\n",
       "      <td>E1BDDCE0DAFA2679</td>\n",
       "      <td>2020-12-07</td>\n",
       "      <td>N.America</td>\n",
       "      <td>iPhone</td>\n",
       "      <td>Monday</td>\n",
       "    </tr>\n",
       "  </tbody>\n",
       "</table>\n",
       "</div>"
      ],
      "text/plain": [
       "            user_id first_date     region   device day_of_week\n",
       "0  D72A72121175D8BE 2020-12-07         EU       PC      Monday\n",
       "1  F1C668619DFE6E65 2020-12-07  N.America  Android      Monday\n",
       "2  2E1BF1D4C37EA01F 2020-12-07         EU       PC      Monday\n",
       "3  50734A22C0C63768 2020-12-07         EU   iPhone      Monday\n",
       "4  E1BDDCE0DAFA2679 2020-12-07  N.America   iPhone      Monday"
      ]
     },
     "execution_count": 33,
     "metadata": {},
     "output_type": "execute_result"
    }
   ],
   "source": [
    "# Criando a nova coluna 'day_of_week'\n",
    "new_users['day_of_week'] = new_users['first_date'].dt.day_name()\n",
    "\n",
    "# Exibindo o DataFrame atualizado\n",
    "new_users.head()"
   ]
  },
  {
   "cell_type": "code",
   "execution_count": 34,
   "metadata": {},
   "outputs": [
    {
     "data": {
      "image/png": "[encoded data removed]",
      "text/plain": [
       "<Figure size 720x432 with 1 Axes>"
      ]
     },
     "metadata": {
      "needs_background": "light"
     },
     "output_type": "display_data"
    }
   ],
   "source": [
    "# Contando a quantidade de usuários por dia da semana\n",
    "users_per_day_of_week = new_users['day_of_week'].value_counts()\n",
    "\n",
    "# Plotando o gráfico de quantidade de usuários por dia da semana\n",
    "plt.figure(figsize=(10, 6))\n",
    "users_per_day_of_week.plot(kind='bar', color='green', alpha=0.7)\n",
    "plt.title('Quantidade de Usuários por Dia da Semana')\n",
    "plt.xlabel('Dia da Semana')\n",
    "plt.ylabel('Número de Usuários')\n",
    "plt.show()"
   ]
  },
  {
   "cell_type": "markdown",
   "metadata": {},
   "source": [
    "O gráfico mostra que o dia com mais acessos na semana é a segunda-feira, seguida pelo domingo e depois sábado."
   ]
  },
  {
   "cell_type": "code",
   "execution_count": null,
   "metadata": {},
   "outputs": [],
   "source": []
  },
  {
   "cell_type": "markdown",
   "metadata": {},
   "source": [
    "Vamos visualizar a quantidade de usuários por dispositivo:"
   ]
  },
  {
   "cell_type": "code",
   "execution_count": 35,
   "metadata": {},
   "outputs": [
    {
     "data": {
      "image/png": "[encoded data removed]",
      "text/plain": [
       "<Figure size 576x360 with 1 Axes>"
      ]
     },
     "metadata": {
      "needs_background": "light"
     },
     "output_type": "display_data"
    }
   ],
   "source": [
    "# Contando a quantidade de usuários por dispositivo\n",
    "users_per_device = new_users['device'].value_counts()\n",
    "\n",
    "# Plotando o gráfico de quantidade de usuários por dispositivo\n",
    "plt.figure(figsize=(8, 5))\n",
    "users_per_device.plot(kind='bar', color='orange', alpha=0.7)\n",
    "plt.title('Quantidade de Usuários por Dispositivo')\n",
    "plt.xlabel('Dispositivo')\n",
    "plt.ylabel('Número de Usuários')\n",
    "plt.show()"
   ]
  },
  {
   "cell_type": "markdown",
   "metadata": {},
   "source": [
    "Os dispositivos mais usado pelos usuários são do tipo Android, seguidos pelos usuários de PC e depois iphone e mac na sequencia."
   ]
  },
  {
   "cell_type": "code",
   "execution_count": null,
   "metadata": {},
   "outputs": [],
   "source": []
  },
  {
   "cell_type": "markdown",
   "metadata": {},
   "source": [
    "Agora vamos ver a receita adiquirida por dispositivo (quanto foi vendido em USD em cada tipo de dispositivo): "
   ]
  },
  {
   "cell_type": "code",
   "execution_count": 36,
   "metadata": {},
   "outputs": [
    {
     "data": {
      "image/png": "[encoded data removed]",
      "text/plain": [
       "<Figure size 576x360 with 1 Axes>"
      ]
     },
     "metadata": {
      "needs_background": "light"
     },
     "output_type": "display_data"
    }
   ],
   "source": [
    "# Unindo os DataFrames para obter a receita por dispositivo\n",
    "revenue_per_device = pd.merge(new_users_events, new_users[['user_id', 'device']], on='user_id', how='inner')\n",
    "\n",
    "# Calculando a receita por dispositivo\n",
    "revenue_per_device = revenue_per_device.groupby('device')['details'].sum()\n",
    "\n",
    "# Plotando o gráfico de receita por dispositivo\n",
    "plt.figure(figsize=(8, 5))\n",
    "revenue_per_device.plot(kind='bar', color='purple', alpha=0.7)\n",
    "plt.title('Receita por Dispositivo')\n",
    "plt.xlabel('Dispositivo')\n",
    "plt.ylabel('Receita (USD)')\n",
    "plt.show()"
   ]
  },
  {
   "cell_type": "code",
   "execution_count": null,
   "metadata": {},
   "outputs": [],
   "source": []
  },
  {
   "cell_type": "markdown",
   "metadata": {},
   "source": [
    "Agora vamos visualizar a quantidade de usuários por região:"
   ]
  },
  {
   "cell_type": "code",
   "execution_count": 37,
   "metadata": {},
   "outputs": [
    {
     "data": {
      "image/png": "[encoded data removed]",
      "text/plain": [
       "<Figure size 864x432 with 1 Axes>"
      ]
     },
     "metadata": {
      "needs_background": "light"
     },
     "output_type": "display_data"
    }
   ],
   "source": [
    "# Contando a quantidade de usuários por região\n",
    "users_per_region = new_users['region'].value_counts()\n",
    "\n",
    "# Plotando o gráfico de quantidade de usuários por região\n",
    "plt.figure(figsize=(12, 6))\n",
    "users_per_region.plot(kind='bar', color='red', alpha=0.7)\n",
    "plt.title('Quantidade de Usuários por Região')\n",
    "plt.xlabel('Região')\n",
    "plt.ylabel('Número de Usuários')\n",
    "plt.show()"
   ]
  },
  {
   "cell_type": "markdown",
   "metadata": {},
   "source": [
    "Agora vamos ver o número de usuários por grupo:"
   ]
  },
  {
   "cell_type": "code",
   "execution_count": 38,
   "metadata": {},
   "outputs": [
    {
     "data": {
      "image/png": "[encoded data removed]",
      "text/plain": [
       "<Figure size 576x360 with 1 Axes>"
      ]
     },
     "metadata": {
      "needs_background": "light"
     },
     "output_type": "display_data"
    }
   ],
   "source": [
    "# Unindo os DataFrames para obter a quantidade de usuários por grupo\n",
    "users_per_group = pd.merge(test_participants, new_users, on='user_id', how='inner')\n",
    "\n",
    "# Contando a quantidade de usuários por grupo\n",
    "users_per_group = users_per_group.groupby('group').size()\n",
    "\n",
    "# Plotando o gráfico de quantidade de usuários por grupo\n",
    "plt.figure(figsize=(8, 5))\n",
    "users_per_group.plot(kind='bar', color='brown', alpha=0.7)\n",
    "plt.title('Quantidade de Usuários por Grupo')\n",
    "plt.xlabel('Grupo')\n",
    "plt.ylabel('Número de Usuários')\n",
    "plt.show()"
   ]
  },
  {
   "cell_type": "markdown",
   "metadata": {},
   "source": [
    "O gráfico acima mostra uma diferença de quase 2000 usuários entre o grupo A e grupo B. \n",
    "Sendo o grupo A o que possui o maior número de usuários.\n",
    "\n",
    "\n",
    "A diferença significativa no número de usuários entre os grupos A e B, como indicado pelo gráfico \"Quantidade de Usuários por Grupo\", é um aspecto importante a ser considerado na análise do teste A/B. Uma diferença grande no tamanho dos grupos pode impactar a validade estatística dos resultados."
   ]
  },
  {
   "cell_type": "code",
   "execution_count": null,
   "metadata": {},
   "outputs": [],
   "source": []
  },
  {
   "cell_type": "markdown",
   "metadata": {},
   "source": [
    "# Agora vamos estudar o funil e analisar a conversão em cada uma das etapas."
   ]
  },
  {
   "cell_type": "raw",
   "metadata": {},
   "source": []
  },
  {
   "cell_type": "markdown",
   "metadata": {},
   "source": [
    "- Visualizações de Página do Produto (product_page):\n",
    "\n",
    "vamos calcular a taxa de conversão para cada grupo (A e B) nesta etapa.\n",
    "\n",
    "vamos comparar as taxas de conversão entre os grupos."
   ]
  },
  {
   "cell_type": "code",
   "execution_count": 39,
   "metadata": {},
   "outputs": [
    {
     "data": {
      "image/png": "[encoded data removed]",
      "text/plain": [
       "<Figure size 576x360 with 1 Axes>"
      ]
     },
     "metadata": {
      "needs_background": "light"
     },
     "output_type": "display_data"
    }
   ],
   "source": [
    "# Filtrando eventos de visualizações de página do produto\n",
    "product_page_events = new_users_events[new_users_events['event_name'] == 'product_page']\n",
    "\n",
    "# Unindo com os participantes do teste\n",
    "product_page_data = pd.merge(product_page_events, test_participants, on='user_id', how='inner')\n",
    "\n",
    "# Calculando a taxa de conversão para cada grupo\n",
    "conversion_rate_product_page = product_page_data.groupby('group')['user_id'].nunique() / test_participants.groupby('group')['user_id'].nunique()\n",
    "\n",
    "# Criando o gráfico de barras para visualização\n",
    "plt.figure(figsize=(8, 5))\n",
    "conversion_rate_product_page.plot(kind='bar', color=['blue', 'green'], alpha=0.7)\n",
    "plt.title('Taxa de Conversão em Visualizações de Página do Produto por Grupo')\n",
    "plt.xlabel('Grupo')\n",
    "plt.ylabel('Taxa de Conversão')\n",
    "plt.ylim(0, 1)  # Define o limite do eixo y entre 0 e 1\n",
    "plt.xticks(rotation=0)  # Mantém os rótulos do eixo x na horizontal\n",
    "plt.show()"
   ]
  },
  {
   "cell_type": "raw",
   "metadata": {},
   "source": []
  },
  {
   "cell_type": "markdown",
   "metadata": {},
   "source": [
    "- Adição de Itens ao Carrinho (product_cart):"
   ]
  },
  {
   "cell_type": "code",
   "execution_count": 40,
   "metadata": {},
   "outputs": [
    {
     "data": {
      "image/png": "[encoded data removed]",
      "text/plain": [
       "<Figure size 576x360 with 1 Axes>"
      ]
     },
     "metadata": {
      "needs_background": "light"
     },
     "output_type": "display_data"
    }
   ],
   "source": [
    "# Filtrando eventos de adição de itens ao carrinho\n",
    "product_cart_events = new_users_events[new_users_events['event_name'] == 'product_cart']\n",
    "\n",
    "# Unindo com os participantes do teste\n",
    "product_cart_data = pd.merge(product_cart_events, test_participants, on='user_id', how='inner')\n",
    "\n",
    "# Calculando a taxa de conversão para cada grupo\n",
    "conversion_rate_product_cart = product_cart_data.groupby('group')['user_id'].nunique() / test_participants.groupby('group')['user_id'].nunique()\n",
    "\n",
    "# Criando o gráfico de barras para visualização\n",
    "plt.figure(figsize=(8, 5))\n",
    "conversion_rate_product_cart.plot(kind='bar', color=['blue', 'green'], alpha=0.7)\n",
    "plt.title('Taxa de Conversão em Adição de Itens ao Carrinho por Grupo')\n",
    "plt.xlabel('Grupo')\n",
    "plt.ylabel('Taxa de Conversão')\n",
    "plt.ylim(0, 1)  # Define o limite do eixo y entre 0 e 1\n",
    "plt.xticks(rotation=0)  # Mantém os rótulos do eixo x na horizontal\n",
    "plt.show()"
   ]
  },
  {
   "cell_type": "raw",
   "metadata": {},
   "source": []
  },
  {
   "cell_type": "markdown",
   "metadata": {},
   "source": [
    "- Compras (purchase):"
   ]
  },
  {
   "cell_type": "code",
   "execution_count": 41,
   "metadata": {},
   "outputs": [
    {
     "data": {
      "image/png": "[encoded data removed]",
      "text/plain": [
       "<Figure size 576x360 with 1 Axes>"
      ]
     },
     "metadata": {
      "needs_background": "light"
     },
     "output_type": "display_data"
    }
   ],
   "source": [
    "# Filtrando eventos de compras\n",
    "purchase_events = new_users_events[new_users_events['event_name'] == 'purchase']\n",
    "\n",
    "# Unindo com os participantes do teste\n",
    "purchase_data = pd.merge(purchase_events, test_participants, on='user_id', how='inner')\n",
    "\n",
    "# Calculando a taxa de conversão para cada grupo\n",
    "conversion_rate_purchase = purchase_data.groupby('group')['user_id'].nunique() / test_participants.groupby('group')['user_id'].nunique()\n",
    "\n",
    "# Criando o gráfico de barras para visualização\n",
    "plt.figure(figsize=(8, 5))\n",
    "conversion_rate_purchase.plot(kind='bar', color=['blue', 'green'], alpha=0.7)\n",
    "plt.title('Taxa de Conversão em Compras por Grupo')\n",
    "plt.xlabel('Grupo')\n",
    "plt.ylabel('Taxa de Conversão')\n",
    "plt.ylim(0, 1)  # Define o limite do eixo y entre 0 e 1\n",
    "plt.xticks(rotation=0)  # Mantém os rótulos do eixo x na horizontal\n",
    "plt.show()"
   ]
  },
  {
   "cell_type": "markdown",
   "metadata": {},
   "source": [
    "O funil de novos pagamentos (Grupo B) parece ter uma taxa de conversão um pouco menor em comparação com o Grupo A nas etapas de adição de itens ao carrinho e compras.\n",
    "\n",
    "Mais a frente vamos fazer uma análise estatística para determinar a significância dessas diferenças."
   ]
  },
  {
   "cell_type": "raw",
   "metadata": {},
   "source": []
  },
  {
   "cell_type": "markdown",
   "metadata": {},
   "source": [
    "Para verificar se o número de eventos por usuário é distribuído igualmente entre as amostras (Grupos A e B), podemos calcular a média do número de eventos por usuário em cada grupo e comparar esses valores. Vamos realizar essa análise:"
   ]
  },
  {
   "cell_type": "code",
   "execution_count": 42,
   "metadata": {},
   "outputs": [
    {
     "data": {
      "image/png": "[encoded data removed]",
      "text/plain": [
       "<Figure size 576x360 with 1 Axes>"
      ]
     },
     "metadata": {
      "needs_background": "light"
     },
     "output_type": "display_data"
    }
   ],
   "source": [
    "# Unindo os eventos dos novos usuários com os participantes do teste\n",
    "events_with_group = pd.merge(new_users_events, test_participants, on='user_id', how='inner')\n",
    "\n",
    "# Calculando o número médio de eventos por usuário em cada grupo\n",
    "avg_events_per_user = events_with_group.groupby(['group', 'user_id'])['event_name'].count().groupby('group').mean()\n",
    "\n",
    "# Criando o gráfico de barras para visualização\n",
    "plt.figure(figsize=(8, 5))\n",
    "avg_events_per_user.plot(kind='bar', color=['blue', 'green'], alpha=0.7)\n",
    "plt.title('Número Médio de Eventos por Usuário por Grupo')\n",
    "plt.xlabel('Grupo')\n",
    "plt.ylabel('Número Médio de Eventos por Usuário')\n",
    "plt.xticks(rotation=0)  \n",
    "plt.show()"
   ]
  },
  {
   "cell_type": "markdown",
   "metadata": {},
   "source": [
    "Embora haja uma diferença, a magnitude da variação não parece ser significativa. "
   ]
  },
  {
   "cell_type": "raw",
   "metadata": {},
   "source": []
  },
  {
   "cell_type": "markdown",
   "metadata": {},
   "source": [
    "\n",
    "Agora vamos analisar como o número de eventos é distribuído ao longo dos dias. \n",
    "\n",
    "Vamos criar um gráfico de linha para cada grupo (A e B) que mostra a tendência do número de eventos em cada dia. "
   ]
  },
  {
   "cell_type": "code",
   "execution_count": 43,
   "metadata": {},
   "outputs": [
    {
     "data": {
      "image/png": "[encoded data removed]",
      "text/plain": [
       "<Figure size 864x432 with 1 Axes>"
      ]
     },
     "metadata": {
      "needs_background": "light"
     },
     "output_type": "display_data"
    }
   ],
   "source": [
    "# Unindo os eventos dos novos usuários com os participantes do teste\n",
    "events_with_group = pd.merge(new_users_events, test_participants, on='user_id', how='inner')\n",
    "\n",
    "# Convertendo a coluna de data para o formato de data\n",
    "events_with_group['event_dt'] = pd.to_datetime(events_with_group['event_dt']).dt.date\n",
    "\n",
    "# Agrupando eventos por dia e grupo\n",
    "events_by_day_group = events_with_group.groupby(['event_dt', 'group'])['event_name'].count().reset_index()\n",
    "\n",
    "# Plotando o gráfico de linha\n",
    "plt.figure(figsize=(12, 6))\n",
    "sns.lineplot(data=events_by_day_group, x='event_dt', y='event_name', hue='group')\n",
    "plt.title('Distribuição do Número de Eventos por Dia')\n",
    "plt.xlabel('Data do Evento')\n",
    "plt.ylabel('Número de Eventos')\n",
    "plt.show()"
   ]
  },
  {
   "cell_type": "markdown",
   "metadata": {},
   "source": [
    "O gráfico mostra que o número de eventos diários é sempre superior para o grupo A, os dois grupos seguiram um padrão semelhante com relação ao aumento e diminuição do número de eventos. "
   ]
  },
  {
   "cell_type": "raw",
   "metadata": {},
   "source": []
  },
  {
   "cell_type": "markdown",
   "metadata": {},
   "source": [
    "Existem quaisquer particularidades nos dados que devem ser consideradas antes de começar o teste A/B?\n",
    "\n",
    "Sim! a primeira coisa é a contagem das amostras para cada grupo, que é bem desigual.\n",
    "O periodo de teste também é muito curto."
   ]
  },
  {
   "cell_type": "raw",
   "metadata": {},
   "source": []
  },
  {
   "cell_type": "markdown",
   "metadata": {},
   "source": [
    "Com base nas análises realizadas até agora, podemos fazer algumas observações preliminares sobre os resultados do teste A/B. Aqui estão algumas considerações:\n",
    "\n",
    "- Taxa de Conversão em Etapas do Funil:\n",
    "\n",
    "Nas etapas do funil (visualizações de página do produto, adições de itens ao carrinho e compras), observamos que as taxas de conversão variam entre os grupos A (controle) e B (funil de novos pagamentos).\n",
    "A taxa de conversão em visualizações de página do produto é ligeiramente superior no Grupo A, enquanto a adição de itens ao carrinho e as taxas de conversão de compras são ligeiramente superiores no Grupo B.\n",
    "\n",
    "\n",
    "- Número Médio de Eventos por Usuário:\n",
    "\n",
    "O número médio de eventos por usuário no Grupo A é um pouco maior do que no Grupo B, mas a diferença não parece ser significativa.\n",
    "\n",
    "\n",
    "- Distribuição Temporal dos Eventos:\n",
    "\n",
    "Analisamos a distribuição temporal dos eventos e não identificamos padrões claros que indiquem disparidades significativas entre os grupos.\n",
    "\n",
    "\n",
    "- Particularidades dos Dados:\n",
    "\n",
    "Consideramos as particularidades dos dados, como eventos de marketing, eventos externos e diferenças geográficas, ao interpretar os resultados.\n",
    "\n",
    "\n",
    "Com base nos resultados, a equipe pode considerar ajustes no funil de novos pagamentos, otimizações nas etapas específicas ou novas iterações do teste."
   ]
  },
  {
   "cell_type": "raw",
   "metadata": {},
   "source": []
  },
  {
   "cell_type": "raw",
   "metadata": {},
   "source": []
  },
  {
   "cell_type": "markdown",
   "metadata": {},
   "source": [
    "# Teste de hipótese:"
   ]
  },
  {
   "cell_type": "markdown",
   "metadata": {},
   "source": [
    "Vamos considerar a hipótese nula como a ausência de diferença significativa na taxa de conversão entre os grupos A e B em cada etapa do funil.\n",
    "\n",
    "Hipótese Nula (H0):\n",
    "A taxa de conversão em cada etapa do funil é igual entre os grupos A e B.\n",
    "\n",
    "Hipótese Alternativa (H1):\n",
    "A taxa de conversão em pelo menos uma etapa do funil é significativamente diferente entre os grupos A e B.\n",
    "\n",
    "Vamos agora realizar o teste e discutir os resultados para cada etapa do funil: Visualizações de Página do Produto (product_page), Adição de Itens ao Carrinho (product_cart), e Compras (purchase).\n"
   ]
  },
  {
   "cell_type": "code",
   "execution_count": 44,
   "metadata": {},
   "outputs": [
    {
     "name": "stdout",
     "output_type": "stream",
     "text": [
      "Resultado: Rejeitamos a hipótese nula. Há diferença significativa nas taxas de conversão.\n"
     ]
    }
   ],
   "source": [
    "#Teste para Visualizações de Página do Produto:\n",
    "\n",
    "\n",
    "from statsmodels.stats.proportion import proportions_ztest\n",
    "\n",
    "# Dados\n",
    "n_A = test_participants[test_participants['group'] == 'A']['user_id'].nunique()\n",
    "n_B = test_participants[test_participants['group'] == 'B']['user_id'].nunique()\n",
    "success_A = product_page_data[product_page_data['group'] == 'A']['user_id'].nunique()\n",
    "success_B = product_page_data[product_page_data['group'] == 'B']['user_id'].nunique()\n",
    "\n",
    "# Teste Z para proporções\n",
    "z_stat_product_page, p_value_product_page = proportions_ztest([success_A, success_B], [n_A, n_B])\n",
    "\n",
    "# Resultados\n",
    "if p_value_product_page < 0.05:\n",
    "    print(f\"Resultado: Rejeitamos a hipótese nula. Há diferença significativa nas taxas de conversão.\")\n",
    "else:\n",
    "    print(\"Resultado: Não há evidência suficiente para rejeitar H0. Não há diferença significativa nas taxas de conversão.\")"
   ]
  },
  {
   "cell_type": "raw",
   "metadata": {},
   "source": []
  },
  {
   "cell_type": "code",
   "execution_count": 45,
   "metadata": {},
   "outputs": [
    {
     "name": "stdout",
     "output_type": "stream",
     "text": [
      "Resultado: Não há evidência suficiente para rejeitar a hipótese nula. Não há diferença significativa nas taxas de conversão.\n"
     ]
    }
   ],
   "source": [
    "#Teste para Adição de Itens ao Carrinho:\n",
    "\n",
    "# Dados\n",
    "success_A_cart = product_cart_data[product_cart_data['group'] == 'A']['user_id'].nunique()\n",
    "success_B_cart = product_cart_data[product_cart_data['group'] == 'B']['user_id'].nunique()\n",
    "\n",
    "# Teste Z para proporções\n",
    "z_stat_product_cart, p_value_product_cart = proportions_ztest([success_A_cart, success_B_cart], [n_A, n_B])\n",
    "\n",
    "# Resultados\n",
    "if p_value_product_cart < 0.05:\n",
    "    print(f\"Resultado: Rejeitamos H0. Há diferença significativa nas taxas de conversão.\")\n",
    "else:\n",
    "    print(\"Resultado: Não há evidência suficiente para rejeitar a hipótese nula. Não há diferença significativa nas taxas de conversão.\")"
   ]
  },
  {
   "cell_type": "raw",
   "metadata": {},
   "source": []
  },
  {
   "cell_type": "code",
   "execution_count": 46,
   "metadata": {},
   "outputs": [
    {
     "name": "stdout",
     "output_type": "stream",
     "text": [
      "Resultado: Rejeitamos a hipótese nula. Há diferença significativa nas taxas de conversão.\n"
     ]
    }
   ],
   "source": [
    "#Teste para Compras:\n",
    "\n",
    "# Dados\n",
    "success_A_purchase = purchase_data[purchase_data['group'] == 'A']['user_id'].nunique()\n",
    "success_B_purchase = purchase_data[purchase_data['group'] == 'B']['user_id'].nunique()\n",
    "\n",
    "# Teste Z para proporções\n",
    "z_stat_purchase, p_value_purchase = proportions_ztest([success_A_purchase, success_B_purchase], [n_A, n_B])\n",
    "\n",
    "# Resultados\n",
    "if p_value_purchase < 0.05:\n",
    "    print(f\"Resultado: Rejeitamos a hipótese nula. Há diferença significativa nas taxas de conversão.\")\n",
    "else:\n",
    "    print(\"Resultado: Não há evidência suficiente para rejeitar a hipótese nula. Não há diferença significativa nas taxas de conversão.\")"
   ]
  },
  {
   "cell_type": "code",
   "execution_count": null,
   "metadata": {},
   "outputs": [],
   "source": []
  },
  {
   "cell_type": "raw",
   "metadata": {},
   "source": []
  },
  {
   "cell_type": "markdown",
   "metadata": {},
   "source": [
    "# Conclusão:"
   ]
  },
  {
   "cell_type": "markdown",
   "metadata": {},
   "source": [
    "Com base na Análise Exploratória de Dados (AED) e nos resultados do teste A/B, tive algumas conclusões:\n",
    "\n",
    "## Análise Exploratória de Dados (AED):\n",
    "\n",
    "\n",
    "- Taxas de Conversão:\n",
    "\n",
    "A taxa de conversão em visualizações de página do produto é ligeiramente mais alta no Grupo A (controle) do que no Grupo B (funil de novos pagamentos).\n",
    "\n",
    "A taxa de conversão em adição de itens ao carrinho é um pouco maior no Grupo B.\n",
    "\n",
    "A taxa de conversão em compras é ligeiramente mais alta no Grupo A.\n",
    "\n",
    "\n",
    "- Número Médio de Eventos por Usuário:\n",
    "\n",
    "O número médio de eventos por usuário é similar entre os Grupos A e B.\n",
    "\n",
    "\n",
    "- Distribuição de Eventos ao Longo do Tempo:\n",
    "\n",
    "A distribuição de eventos ao longo do tempo parece consistente entre os Grupos A e B.\n",
    "\n",
    "\n",
    "\n",
    "## Teste de hipóteses:\n",
    "\n",
    "- Resultado 1 (Visualizações de Página do Produto):\n",
    "\n",
    "Conclusão: Rejeitamos a hipótese nula, indicando que há uma diferença significativa nas taxas de conversão entre os grupos A e B nas Visualizações de Página do Produto.\n",
    "\n",
    "Pode haver uma influência positiva da mudança no sistema de recomendação nessa etapa específica do funil. \n",
    "\n",
    "\n",
    "\n",
    "- Resultado 2 (Adição de Itens ao Carrinho):\n",
    "\n",
    "Conclusão: Não há evidência suficiente para rejeitar a hipótese nula, sugerindo que não há diferença significativa nas taxas de conversão entre os grupos A e B na Adição de Itens ao Carrinho.\n",
    "\n",
    "A mudança no sistema de recomendação pode não ter impacto significativo nesta etapa do funil. \n",
    "\n",
    "\n",
    "\n",
    "\n",
    "- Resultado 3 (Compras):\n",
    "\n",
    "Conclusão: Rejeitamos a hipótese nula, indicando que há uma diferença significativa nas taxas de conversão entre os grupos A e B nas Compras.\n",
    "\n",
    "A mudança no sistema de recomendação pode ter impactado positivamente as taxas de conversão nas Compras. \n"
   ]
  }
 ],
 "metadata": {
  "kernelspec": {
   "display_name": "Python 3 (ipykernel)",
   "language": "python",
   "name": "python3"
  },
  "language_info": {
   "codemirror_mode": {
    "name": "ipython",
    "version": 3
   },
   "file_extension": ".py",
   "mimetype": "text/x-python",
   "name": "python",
   "nbconvert_exporter": "python",
   "pygments_lexer": "ipython3",
   "version": "3.9.19"
  },
  "toc": {
   "base_numbering": 1,
   "nav_menu": {},
   "number_sections": true,
   "sideBar": true,
   "skip_h1_title": true,
   "title_cell": "Table of Contents",
   "title_sidebar": "Contents",
   "toc_cell": false,
   "toc_position": {},
   "toc_section_display": true,
   "toc_window_display": false
  }
 },
 "nbformat": 4,
 "nbformat_minor": 2
}
